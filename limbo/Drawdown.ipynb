{
 "cells": [
  {
   "cell_type": "markdown",
   "metadata": {},
   "source": [
    "<a href=\"https://drawdown.org\"><img style=\"float: left;\" src=\"data/images/ProjectDrawdown.png\"></a>\n",
    "<br clear=left>&nbsp;<br/>\n",
    "\n",
    "**[The World’s Leading Resource for Climate Solutions](https://drawdown.org)**\n",
    "\n",
    "Our mission is to help the world reach “Drawdown”—the point in the future when levels of greenhouse gases in the atmosphere stop climbing and start to steadily decline, thereby stopping catastrophic climate change—as quickly, safely, and equitably as possible\n",
    "\n",
    "+ There is a **<a href=\"https://youtu.be/RAQSnhm_tS4\" target=\"_blank\">video demonstrating</a>** how to use the system.  \n",
    "+ If you run into trouble or need assistance, the **<a href=\"https://solutions.geekhold.com/services/discourse/\" target=\"_blank\">Community Forum</a>** can help.  "
   ]
  },
  {
   "cell_type": "code",
   "execution_count": 1,
   "metadata": {},
   "outputs": [
    {
     "data": {
      "application/vnd.jupyter.widget-view+json": {
       "model_id": "5f52df687ce94af494f9d755dea83d25",
       "version_major": 2,
       "version_minor": 0
      },
      "text/plain": [
       "VBox(children=(HBox(children=(FloatProgress(value=0.0, layout=Layout(width='99%'), max=1.0), Button(descriptio…"
      ]
     },
     "metadata": {},
     "output_type": "display_data"
    }
   ],
   "source": [
    "import ui.charts\n",
    "(j, tabs) = ui.charts.get_ui()\n",
    "tabs"
   ]
  },
  {
   "cell_type": "code",
   "execution_count": null,
   "metadata": {},
   "outputs": [],
   "source": []
  },
  {
   "cell_type": "code",
   "execution_count": null,
   "metadata": {},
   "outputs": [],
   "source": []
  },
  {
   "cell_type": "code",
   "execution_count": null,
   "metadata": {},
   "outputs": [],
   "source": []
  }
 ],
 "metadata": {
  "kernelspec": {
   "display_name": "Python 3",
   "language": "python",
   "name": "python3"
  },
  "language_info": {
   "codemirror_mode": {
    "name": "ipython",
    "version": 3
   },
   "file_extension": ".py",
   "mimetype": "text/x-python",
   "name": "python",
   "nbconvert_exporter": "python",
   "pygments_lexer": "ipython3",
   "version": "3.8.1"
  }
 },
 "nbformat": 4,
 "nbformat_minor": 4
}
